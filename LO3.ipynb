{
 "cells": [
  {
   "cell_type": "markdown",
   "metadata": {},
   "source": [
    "# Finance of the helthcare system in Switzerland\n",
    "\n",
    "## Import the new dataset\n",
    "The new dataset is part of the table 14.05.01.01 of the Bundesamt für Statistik\n"
   ]
  },
  {
   "cell_type": "code",
   "execution_count": 1,
   "metadata": {},
   "outputs": [],
   "source": [
    "from matplotlib import pyplot as plt\n",
    "from pywaffle import Waffle\n",
    "import pandas as pd\n",
    "import numpy as np\n",
    "import seaborn as sns"
   ]
  },
  {
   "cell_type": "code",
   "execution_count": 2,
   "metadata": {},
   "outputs": [
    {
     "data": {
      "text/html": [
       "<div>\n",
       "<style scoped>\n",
       "    .dataframe tbody tr th:only-of-type {\n",
       "        vertical-align: middle;\n",
       "    }\n",
       "\n",
       "    .dataframe tbody tr th {\n",
       "        vertical-align: top;\n",
       "    }\n",
       "\n",
       "    .dataframe thead th {\n",
       "        text-align: right;\n",
       "    }\n",
       "</style>\n",
       "<table border=\"1\" class=\"dataframe\">\n",
       "  <thead>\n",
       "    <tr style=\"text-align: right;\">\n",
       "      <th></th>\n",
       "      <th>year</th>\n",
       "      <th>cost_M</th>\n",
       "      <th>cost_95</th>\n",
       "      <th>GDP_M</th>\n",
       "      <th>GDP_95</th>\n",
       "      <th>cost_%GDP</th>\n",
       "      <th>pop_T</th>\n",
       "      <th>expend_persmonth</th>\n",
       "      <th>fin_state%</th>\n",
       "      <th>fin_okp%</th>\n",
       "      <th>fin_socin%</th>\n",
       "      <th>fin_privin%</th>\n",
       "      <th>self_pay%</th>\n",
       "    </tr>\n",
       "  </thead>\n",
       "  <tbody>\n",
       "    <tr>\n",
       "      <th>0</th>\n",
       "      <td>1995.0</td>\n",
       "      <td>36 056</td>\n",
       "      <td>100.0</td>\n",
       "      <td>417 579</td>\n",
       "      <td>100.0</td>\n",
       "      <td>8.6</td>\n",
       "      <td>7 081</td>\n",
       "      <td>424.0</td>\n",
       "      <td>14.6</td>\n",
       "      <td>28.4</td>\n",
       "      <td>12.3</td>\n",
       "      <td>12.9</td>\n",
       "      <td>31.8</td>\n",
       "    </tr>\n",
       "    <tr>\n",
       "      <th>1</th>\n",
       "      <td>1996.0</td>\n",
       "      <td>37 773</td>\n",
       "      <td>104.8</td>\n",
       "      <td>420 822</td>\n",
       "      <td>100.8</td>\n",
       "      <td>9.0</td>\n",
       "      <td>7 105</td>\n",
       "      <td>443.0</td>\n",
       "      <td>14.6</td>\n",
       "      <td>29.9</td>\n",
       "      <td>11.9</td>\n",
       "      <td>12.8</td>\n",
       "      <td>30.8</td>\n",
       "    </tr>\n",
       "    <tr>\n",
       "      <th>2</th>\n",
       "      <td>1997.0</td>\n",
       "      <td>38 544</td>\n",
       "      <td>106.9</td>\n",
       "      <td>428 310</td>\n",
       "      <td>102.6</td>\n",
       "      <td>9.0</td>\n",
       "      <td>7 113</td>\n",
       "      <td>452.0</td>\n",
       "      <td>14.2</td>\n",
       "      <td>30.8</td>\n",
       "      <td>12.1</td>\n",
       "      <td>12.1</td>\n",
       "      <td>30.9</td>\n",
       "    </tr>\n",
       "    <tr>\n",
       "      <th>3</th>\n",
       "      <td>1998.0</td>\n",
       "      <td>40 077</td>\n",
       "      <td>111.2</td>\n",
       "      <td>440 569</td>\n",
       "      <td>105.5</td>\n",
       "      <td>9.1</td>\n",
       "      <td>7 132</td>\n",
       "      <td>468.0</td>\n",
       "      <td>13.7</td>\n",
       "      <td>31.4</td>\n",
       "      <td>12.2</td>\n",
       "      <td>12.0</td>\n",
       "      <td>30.7</td>\n",
       "    </tr>\n",
       "    <tr>\n",
       "      <th>4</th>\n",
       "      <td>1999.0</td>\n",
       "      <td>41 330</td>\n",
       "      <td>114.6</td>\n",
       "      <td>448 437</td>\n",
       "      <td>107.4</td>\n",
       "      <td>9.2</td>\n",
       "      <td>7 167</td>\n",
       "      <td>481.0</td>\n",
       "      <td>14.0</td>\n",
       "      <td>31.7</td>\n",
       "      <td>12.2</td>\n",
       "      <td>11.4</td>\n",
       "      <td>30.7</td>\n",
       "    </tr>\n",
       "  </tbody>\n",
       "</table>\n",
       "</div>"
      ],
      "text/plain": [
       "     year   cost_M  cost_95     GDP_M  GDP_95  cost_%GDP   pop_T  \\\n",
       "0  1995.0   36 056    100.0   417 579   100.0        8.6   7 081   \n",
       "1  1996.0   37 773    104.8   420 822   100.8        9.0   7 105   \n",
       "2  1997.0   38 544    106.9   428 310   102.6        9.0   7 113   \n",
       "3  1998.0   40 077    111.2   440 569   105.5        9.1   7 132   \n",
       "4  1999.0   41 330    114.6   448 437   107.4        9.2   7 167   \n",
       "\n",
       "   expend_persmonth  fin_state%  fin_okp%  fin_socin%  fin_privin%  self_pay%  \n",
       "0             424.0        14.6      28.4        12.3         12.9       31.8  \n",
       "1             443.0        14.6      29.9        11.9         12.8       30.8  \n",
       "2             452.0        14.2      30.8        12.1         12.1       30.9  \n",
       "3             468.0        13.7      31.4        12.2         12.0       30.7  \n",
       "4             481.0        14.0      31.7        12.2         11.4       30.7  "
      ]
     },
     "execution_count": 2,
     "metadata": {},
     "output_type": "execute_result"
    }
   ],
   "source": [
    "df_fin = pd.read_csv(\"healthcare_finance.csv\",sep=';')\n",
    "df_fin.columns = ['year', 'cost_M', 'cost_95', 'GDP_M', 'GDP_95', 'cost_%GDP', 'pop_T', 'expend_persmonth', 'fin_state%', 'fin_okp%', 'fin_socin%', 'fin_privin%', 'self_pay%']\n",
    "df_fin = df_fin.drop([25, 26])\n",
    "df_fin.head()"
   ]
  },
  {
   "cell_type": "markdown",
   "metadata": {},
   "source": [
    "Explanation of the data:\n",
    "* cost_M: cost in MCHF\n",
    "* cost_95: cost with Index 1995 = 0\n",
    "* GDP_M: GDP in MCHF\n",
    "* GDP_95: GDP with Index 1995 = 0\n",
    "* cost_%GDP: cost in % of the GDP\n",
    "* pop_T: Average population in Thousand\n",
    "* expend_persmonth: Expend per person and month\n",
    "* fin_state%: financed by state %\n",
    "* fin_okp%: financed by mandatory health insurance %\n",
    "* fin_socin%: financed by social insurance %\n",
    "* fin_privin%: financed by private insurance %\n",
    "* self_pay%: selfpayment in %\n",
    "\n",
    "Clean the data: cost_M, GDP_M and pop_T are objects because they have spaces.\n",
    "* replace the spaces\n",
    "* Change to int"
   ]
  },
  {
   "cell_type": "code",
   "execution_count": 3,
   "metadata": {},
   "outputs": [
    {
     "name": "stdout",
     "output_type": "stream",
     "text": [
      "year                float64\n",
      "cost_M               object\n",
      "cost_95             float64\n",
      "GDP_M                object\n",
      "GDP_95              float64\n",
      "cost_%GDP           float64\n",
      "pop_T                object\n",
      "expend_persmonth    float64\n",
      "fin_state%          float64\n",
      "fin_okp%            float64\n",
      "fin_socin%          float64\n",
      "fin_privin%         float64\n",
      "self_pay%           float64\n",
      "dtype: object\n"
     ]
    }
   ],
   "source": [
    "print(df_fin.dtypes)"
   ]
  },
  {
   "cell_type": "code",
   "execution_count": 4,
   "metadata": {},
   "outputs": [
    {
     "name": "stdout",
     "output_type": "stream",
     "text": [
      "year                float64\n",
      "cost_M                int32\n",
      "cost_95             float64\n",
      "GDP_M                 int32\n",
      "GDP_95              float64\n",
      "cost_%GDP           float64\n",
      "pop_T                 int32\n",
      "expend_persmonth    float64\n",
      "fin_state%          float64\n",
      "fin_okp%            float64\n",
      "fin_socin%          float64\n",
      "fin_privin%         float64\n",
      "self_pay%           float64\n",
      "dtype: object\n"
     ]
    }
   ],
   "source": [
    "df_fin.cost_M = df_fin.cost_M.str.replace(\" \",\"\")\n",
    "df_fin.GDP_M = df_fin.GDP_M.str.replace(\" \",\"\")\n",
    "df_fin.pop_T = df_fin.pop_T.str.replace(\" \",\"\")\n",
    "df_fin[[\"cost_M\", \"GDP_M\", \"pop_T\"]] = df_fin[[\"cost_M\", \"GDP_M\", \"pop_T\"]].astype(str).astype(int)\n",
    "print(df_fin.dtypes)"
   ]
  },
  {
   "cell_type": "code",
   "execution_count": 5,
   "metadata": {},
   "outputs": [
    {
     "data": {
      "image/png": "[encoded data removed]",
      "text/plain": [
       "<Figure size 576x360 with 1 Axes>"
      ]
     },
     "metadata": {
      "needs_background": "light"
     },
     "output_type": "display_data"
    }
   ],
   "source": [
    "fig1, ax = plt.subplots(figsize=(8,5))\n",
    "\n",
    "sns.set_style('darkgrid')\n",
    "\n",
    "pal = sns.color_palette(\"Paired\")\n",
    "\n",
    "ax.stackplot(df_fin[\"year\"], \n",
    "             df_fin[\"fin_okp%\"],\n",
    "             df_fin[\"self_pay%\"],\n",
    "             df_fin[\"fin_privin%\"], \n",
    "             df_fin[\"fin_socin%\"],         \n",
    "             df_fin[\"fin_state%\"],\n",
    "             labels=['mandatory HI',\n",
    "                     'selfpayment',\n",
    "                     'private HI',\n",
    "                     'social insurance',\n",
    "                     'state'], colors=pal, alpha=0.5, visible=True)\n",
    "\n",
    "\n",
    "#ax.legend(loc='center left', bbox_to_anchor=(1.1, 0.5), facecolor='white')\n",
    "\n",
    "ax.margins(0,0)\n",
    "#plt.title('healthcare financing in Switzerland')\n",
    "plt.ylabel(\"financed by [%]\")\n",
    "plt.xlabel(\"year\")\n",
    "fig1.savefig('finance_overview.png', bbox_inches='tight')\n",
    "plt.show()"
   ]
  },
  {
   "cell_type": "code",
   "execution_count": 6,
   "metadata": {},
   "outputs": [],
   "source": [
    "year_cat = pd.cut(df_fin.year, bins=[1994, 1999, 2004, 2009, 2014, 2019], \n",
    "                  labels=[\"1995-1999\", \"2000-2004\", \"2005-2009\", \"2010-2015\", \"2015-2019\"])\n",
    "df_fin.insert(1,\"year_cat\", year_cat)"
   ]
  },
  {
   "cell_type": "code",
   "execution_count": 7,
   "metadata": {},
   "outputs": [
    {
     "data": {
      "text/html": [
       "<div>\n",
       "<style scoped>\n",
       "    .dataframe tbody tr th:only-of-type {\n",
       "        vertical-align: middle;\n",
       "    }\n",
       "\n",
       "    .dataframe tbody tr th {\n",
       "        vertical-align: top;\n",
       "    }\n",
       "\n",
       "    .dataframe thead th {\n",
       "        text-align: right;\n",
       "    }\n",
       "</style>\n",
       "<table border=\"1\" class=\"dataframe\">\n",
       "  <thead>\n",
       "    <tr style=\"text-align: right;\">\n",
       "      <th></th>\n",
       "      <th>year_cat</th>\n",
       "      <th>fin_okp%</th>\n",
       "      <th>self_pay%</th>\n",
       "      <th>fin_privin%</th>\n",
       "      <th>fin_socin%</th>\n",
       "      <th>fin_state%</th>\n",
       "    </tr>\n",
       "  </thead>\n",
       "  <tbody>\n",
       "    <tr>\n",
       "      <th>0</th>\n",
       "      <td>1995-1999</td>\n",
       "      <td>30.8</td>\n",
       "      <td>30.8</td>\n",
       "      <td>12.1</td>\n",
       "      <td>12.2</td>\n",
       "      <td>14.2</td>\n",
       "    </tr>\n",
       "    <tr>\n",
       "      <th>1</th>\n",
       "      <td>2000-2004</td>\n",
       "      <td>32.7</td>\n",
       "      <td>28.6</td>\n",
       "      <td>10.5</td>\n",
       "      <td>11.9</td>\n",
       "      <td>15.7</td>\n",
       "    </tr>\n",
       "    <tr>\n",
       "      <th>2</th>\n",
       "      <td>2005-2009</td>\n",
       "      <td>34.9</td>\n",
       "      <td>26.6</td>\n",
       "      <td>10.7</td>\n",
       "      <td>12.2</td>\n",
       "      <td>15.6</td>\n",
       "    </tr>\n",
       "    <tr>\n",
       "      <th>3</th>\n",
       "      <td>2010-2015</td>\n",
       "      <td>35.5</td>\n",
       "      <td>25.3</td>\n",
       "      <td>8.5</td>\n",
       "      <td>11.0</td>\n",
       "      <td>18.8</td>\n",
       "    </tr>\n",
       "    <tr>\n",
       "      <th>4</th>\n",
       "      <td>2015-2019</td>\n",
       "      <td>37.1</td>\n",
       "      <td>25.8</td>\n",
       "      <td>8.3</td>\n",
       "      <td>10.2</td>\n",
       "      <td>18.7</td>\n",
       "    </tr>\n",
       "  </tbody>\n",
       "</table>\n",
       "</div>"
      ],
      "text/plain": [
       "    year_cat  fin_okp%  self_pay%  fin_privin%  fin_socin%  fin_state%\n",
       "0  1995-1999      30.8       30.8         12.1        12.2        14.2\n",
       "1  2000-2004      32.7       28.6         10.5        11.9        15.7\n",
       "2  2005-2009      34.9       26.6         10.7        12.2        15.6\n",
       "3  2010-2015      35.5       25.3          8.5        11.0        18.8\n",
       "4  2015-2019      37.1       25.8          8.3        10.2        18.7"
      ]
     },
     "execution_count": 7,
     "metadata": {},
     "output_type": "execute_result"
    }
   ],
   "source": [
    "df_median = df_fin.groupby('year_cat')[['fin_okp%', 'self_pay%', 'fin_privin%', 'fin_socin%', 'fin_state%']].median().reset_index()\n",
    "df_median"
   ]
  },
  {
   "cell_type": "code",
   "execution_count": 8,
   "metadata": {},
   "outputs": [
    {
     "data": {
      "text/html": [
       "<div>\n",
       "<style scoped>\n",
       "    .dataframe tbody tr th:only-of-type {\n",
       "        vertical-align: middle;\n",
       "    }\n",
       "\n",
       "    .dataframe tbody tr th {\n",
       "        vertical-align: top;\n",
       "    }\n",
       "\n",
       "    .dataframe thead th {\n",
       "        text-align: right;\n",
       "    }\n",
       "</style>\n",
       "<table border=\"1\" class=\"dataframe\">\n",
       "  <thead>\n",
       "    <tr style=\"text-align: right;\">\n",
       "      <th></th>\n",
       "      <th>year</th>\n",
       "      <th>year_cat</th>\n",
       "      <th>cost_M</th>\n",
       "      <th>cost_95</th>\n",
       "      <th>GDP_M</th>\n",
       "      <th>GDP_95</th>\n",
       "      <th>cost_%GDP</th>\n",
       "      <th>pop_T</th>\n",
       "      <th>expend_persmonth</th>\n",
       "      <th>fin_state%</th>\n",
       "      <th>fin_okp%</th>\n",
       "      <th>fin_socin%</th>\n",
       "      <th>fin_privin%</th>\n",
       "      <th>self_pay%</th>\n",
       "    </tr>\n",
       "  </thead>\n",
       "  <tbody>\n",
       "    <tr>\n",
       "      <th>0</th>\n",
       "      <td>1995.0</td>\n",
       "      <td>1995-1999</td>\n",
       "      <td>36056</td>\n",
       "      <td>100.0</td>\n",
       "      <td>417579</td>\n",
       "      <td>100.0</td>\n",
       "      <td>8.6</td>\n",
       "      <td>7081</td>\n",
       "      <td>424.0</td>\n",
       "      <td>14.6</td>\n",
       "      <td>28.4</td>\n",
       "      <td>12.3</td>\n",
       "      <td>12.9</td>\n",
       "      <td>31.8</td>\n",
       "    </tr>\n",
       "  </tbody>\n",
       "</table>\n",
       "</div>"
      ],
      "text/plain": [
       "     year   year_cat  cost_M  cost_95   GDP_M  GDP_95  cost_%GDP  pop_T  \\\n",
       "0  1995.0  1995-1999   36056    100.0  417579   100.0        8.6   7081   \n",
       "\n",
       "   expend_persmonth  fin_state%  fin_okp%  fin_socin%  fin_privin%  self_pay%  \n",
       "0             424.0        14.6      28.4        12.3         12.9       31.8  "
      ]
     },
     "execution_count": 8,
     "metadata": {},
     "output_type": "execute_result"
    }
   ],
   "source": [
    "df_fin[df_fin['year']==1995]"
   ]
  },
  {
   "cell_type": "code",
   "execution_count": 102,
   "metadata": {},
   "outputs": [
    {
     "data": {
      "image/png": "[encoded data removed]",
      "text/plain": [
       "<Waffle size 360x432 with 1 Axes>"
      ]
     },
     "metadata": {},
     "output_type": "display_data"
    }
   ],
   "source": [
    "fig0 = plt.figure(\n",
    "    FigureClass=Waffle, \n",
    "    columns=10, \n",
    "    values={\"Mandatory HI\": 28,\"Self-payment\":  32,\"Private HI\":  13,\"Social Insurance\": 12,\"State\": 15},\n",
    "    icons = ['hospital-symbol','coins','lock','users','h-square'],\n",
    "    #icon_legend= True,\n",
    "    font_size = 20,\n",
    "    block_arranging_style='new-line',\n",
    "    vertical=True,\n",
    "    cmap_name=\"Paired\",\n",
    "    #title={'label': 'Healthcare financing 1995', 'loc': 'left'},\n",
    "    figsize=(5,6),\n",
    "    legend={'loc': 'center left', 'bbox_to_anchor': (1.1, 0.5), 'labelspacing': -3,'frameon': False}\n",
    ")\n",
    "\n",
    "fig0.savefig('waffle_1995.png', bbox_inches='tight')\n",
    "\n",
    "plt.show()\n"
   ]
  },
  {
   "cell_type": "code",
   "execution_count": 100,
   "metadata": {},
   "outputs": [
    {
     "data": {
      "image/png": "[encoded data removed]",
      "text/plain": [
       "<Waffle size 360x432 with 1 Axes>"
      ]
     },
     "metadata": {},
     "output_type": "display_data"
    }
   ],
   "source": [
    "fig2 = plt.figure(\n",
    "    FigureClass=Waffle, \n",
    "    columns=10,\n",
    "    rows = 10,\n",
    "    values={\"Mandatory HI\": 28,\"Self-payment\":  32,\"Private HI\":  13,\"Social Insurance\": 12,\"State\": 15},\n",
    "    font_size = 20,\n",
    "    vertical=True,\n",
    "    cmap_name=\"Paired\",\n",
    "    #title={'label': 'Healthcare financing 1995', 'loc': 'left'},\n",
    "    figsize=(5,6),\n",
    "    legend={'loc': 'center left', 'bbox_to_anchor': (1.1, 0.5), 'labelspacing': -3,'frameon': False}\n",
    ")\n",
    "\n",
    "fig2.savefig('waffle_1995w.png', bbox_inches='tight')\n",
    "plt.show()"
   ]
  },
  {
   "cell_type": "code",
   "execution_count": 11,
   "metadata": {},
   "outputs": [
    {
     "data": {
      "text/html": [
       "<div>\n",
       "<style scoped>\n",
       "    .dataframe tbody tr th:only-of-type {\n",
       "        vertical-align: middle;\n",
       "    }\n",
       "\n",
       "    .dataframe tbody tr th {\n",
       "        vertical-align: top;\n",
       "    }\n",
       "\n",
       "    .dataframe thead th {\n",
       "        text-align: right;\n",
       "    }\n",
       "</style>\n",
       "<table border=\"1\" class=\"dataframe\">\n",
       "  <thead>\n",
       "    <tr style=\"text-align: right;\">\n",
       "      <th></th>\n",
       "      <th>year</th>\n",
       "      <th>year_cat</th>\n",
       "      <th>cost_M</th>\n",
       "      <th>cost_95</th>\n",
       "      <th>GDP_M</th>\n",
       "      <th>GDP_95</th>\n",
       "      <th>cost_%GDP</th>\n",
       "      <th>pop_T</th>\n",
       "      <th>expend_persmonth</th>\n",
       "      <th>fin_state%</th>\n",
       "      <th>fin_okp%</th>\n",
       "      <th>fin_socin%</th>\n",
       "      <th>fin_privin%</th>\n",
       "      <th>self_pay%</th>\n",
       "    </tr>\n",
       "  </thead>\n",
       "  <tbody>\n",
       "    <tr>\n",
       "      <th>24</th>\n",
       "      <td>2019.0</td>\n",
       "      <td>2015-2019</td>\n",
       "      <td>82080</td>\n",
       "      <td>227.6</td>\n",
       "      <td>726921</td>\n",
       "      <td>174.1</td>\n",
       "      <td>11.3</td>\n",
       "      <td>8575</td>\n",
       "      <td>798.0</td>\n",
       "      <td>18.7</td>\n",
       "      <td>37.9</td>\n",
       "      <td>10.2</td>\n",
       "      <td>8.7</td>\n",
       "      <td>24.5</td>\n",
       "    </tr>\n",
       "  </tbody>\n",
       "</table>\n",
       "</div>"
      ],
      "text/plain": [
       "      year   year_cat  cost_M  cost_95   GDP_M  GDP_95  cost_%GDP  pop_T  \\\n",
       "24  2019.0  2015-2019   82080    227.6  726921   174.1       11.3   8575   \n",
       "\n",
       "    expend_persmonth  fin_state%  fin_okp%  fin_socin%  fin_privin%  self_pay%  \n",
       "24             798.0        18.7      37.9        10.2          8.7       24.5  "
      ]
     },
     "execution_count": 11,
     "metadata": {},
     "output_type": "execute_result"
    }
   ],
   "source": [
    "df_fin[df_fin['year']==2019]"
   ]
  },
  {
   "cell_type": "code",
   "execution_count": 103,
   "metadata": {},
   "outputs": [
    {
     "data": {
      "image/png": "[encoded data removed]",
      "text/plain": [
       "<Waffle size 360x432 with 1 Axes>"
      ]
     },
     "metadata": {},
     "output_type": "display_data"
    }
   ],
   "source": [
    "fig3 = plt.figure(\n",
    "    FigureClass=Waffle, \n",
    "    columns=10, \n",
    "    values={\"Mandatory HI\": 38, \"Self-payment\": 24, \"Private HI\": 9, \"Social Insurance\": 10, \"State\": 19},\n",
    "    icons = ['hospital-symbol','coins','lock','users','h-square'],\n",
    "    icon_legend= True,\n",
    "    font_size = 20,\n",
    "    block_arranging_style='new-line',\n",
    "    vertical=True,\n",
    "    cmap_name=\"Paired\",\n",
    "    #title={'label': 'Healthcare financing 2019', 'loc': 'left'},\n",
    "    figsize=(5,6),\n",
    "    legend={'loc': 'center left', 'bbox_to_anchor': (1.1, 0.5), 'labelspacing': -3, 'frameon': False}\n",
    ")\n",
    "fig3.savefig('waffle_2019.png', bbox_inches='tight')\n",
    "\n",
    "plt.show()"
   ]
  },
  {
   "cell_type": "code",
   "execution_count": 13,
   "metadata": {},
   "outputs": [
    {
     "data": {
      "image/png": "[encoded data removed]",
      "text/plain": [
       "<Waffle size 360x432 with 1 Axes>"
      ]
     },
     "metadata": {},
     "output_type": "display_data"
    }
   ],
   "source": [
    "fig3 = plt.figure(\n",
    "    FigureClass=Waffle, \n",
    "    columns=10, \n",
    "    values={\"Mandatory HI\": 38, \"Self-payment\": 24, \"Private HI\": 9, \"Social Insurance\": 10, \"State\": 19},\n",
    "    icons = ['hospital-symbol','coins','lock','users','h-square'],\n",
    "    icon_legend= True,\n",
    "    font_size = 20,\n",
    "    #block_arranging_style='new-line',\n",
    "    vertical=True,\n",
    "    cmap_name=\"Paired\",\n",
    "    #title={'label': 'Healthcare financing 2019', 'loc': 'left'},\n",
    "    figsize=(5,6),\n",
    "    legend={'loc': 'center left', 'bbox_to_anchor': (1.1, 0.5), 'labelspacing': -3, 'frameon': False}\n",
    ")\n",
    "fig3.savefig('waffle_2019.png', bbox_inches='tight')\n",
    "\n",
    "plt.show()"
   ]
  },
  {
   "cell_type": "code",
   "execution_count": 14,
   "metadata": {},
   "outputs": [
    {
     "data": {
      "image/png": "[encoded data removed]",
      "text/plain": [
       "<Waffle size 360x360 with 1 Axes>"
      ]
     },
     "metadata": {},
     "output_type": "display_data"
    }
   ],
   "source": [
    "fig4 = plt.figure(\n",
    "    FigureClass=Waffle, \n",
    "    columns=10,\n",
    "    rows = 10,\n",
    "    values={\"Mandatory HI\": 38, \"Self-payment\": 24, \"Private HI\": 9, \"Social Insurance\": 10, \"State\": 19},\n",
    "    font_size = 20,\n",
    "    vertical=True,\n",
    "    cmap_name=\"Paired\",\n",
    "    #title={'label': 'Healthcare financing 2019', 'loc': 'left'},\n",
    "    figsize=(5,5),\n",
    "    legend={'loc': 'center left', 'bbox_to_anchor': (1.1, 0.5), 'labelspacing': -3,'frameon': False}\n",
    ")\n",
    "\n",
    "fig4.savefig('waffle_2019w.png', bbox_inches='tight')\n",
    "plt.show()"
   ]
  },
  {
   "cell_type": "code",
   "execution_count": 15,
   "metadata": {},
   "outputs": [
    {
     "data": {
      "image/png": "[encoded data removed]",
      "text/plain": [
       "<Waffle size 432x288 with 1 Axes>"
      ]
     },
     "metadata": {},
     "output_type": "display_data"
    }
   ],
   "source": [
    "fig5a = plt.figure(\n",
    "    FigureClass=Waffle,\n",
    "    rows=10,\n",
    "    columns = 10,\n",
    "    values=[31, 69],\n",
    "    vertical=True,\n",
    "    colors=[\"lightblue\", \"lightgray\"],\n",
    "    font_size=24,\n",
    "    title={'label': 'Mandatory HI 1995 - 1999', 'loc': 'left', 'fontsize': 15},\n",
    ")\n",
    "\n",
    "fig5a.savefig('mHI_1.png', bbox_inches='tight')\n",
    "plt.show()"
   ]
  },
  {
   "cell_type": "code",
   "execution_count": 16,
   "metadata": {},
   "outputs": [
    {
     "data": {
      "image/png": "[encoded data removed]",
      "text/plain": [
       "<Waffle size 432x288 with 1 Axes>"
      ]
     },
     "metadata": {},
     "output_type": "display_data"
    }
   ],
   "source": [
    "fig5b = plt.figure(\n",
    "    FigureClass=Waffle,\n",
    "    rows=10,\n",
    "    columns = 10,\n",
    "    values=[35, 65],\n",
    "    vertical=True,\n",
    "    colors=[\"lightblue\", \"lightgray\"],\n",
    "    font_size=24,\n",
    "    title={'label': 'Mandatory HI 2005 - 2009', 'loc': 'left', 'fontsize': 15},\n",
    ")\n",
    "fig5b.savefig('mHI_2.png', bbox_inches='tight')\n",
    "plt.show()"
   ]
  },
  {
   "cell_type": "code",
   "execution_count": 17,
   "metadata": {},
   "outputs": [
    {
     "data": {
      "image/png": "[encoded data removed]",
      "text/plain": [
       "<Waffle size 432x288 with 1 Axes>"
      ]
     },
     "metadata": {},
     "output_type": "display_data"
    }
   ],
   "source": [
    "fig5c = plt.figure(\n",
    "    FigureClass=Waffle,\n",
    "    rows=10,\n",
    "    columns = 10,\n",
    "    values=[37, 63],\n",
    "    vertical=True,\n",
    "    colors=[\"lightblue\", \"lightgray\"],\n",
    "    font_size=24,\n",
    "    title={'label': 'Mandatory HI 2015 - 2019', 'loc': 'left', 'fontsize': 15},\n",
    ")\n",
    "fig5c.savefig('mHI_3.png', bbox_inches='tight')\n",
    "plt.show()"
   ]
  },
  {
   "cell_type": "code",
   "execution_count": 18,
   "metadata": {},
   "outputs": [
    {
     "data": {
      "image/png": "[encoded data removed]",
      "text/plain": [
       "<Waffle size 432x288 with 1 Axes>"
      ]
     },
     "metadata": {},
     "output_type": "display_data"
    }
   ],
   "source": [
    "fig5d = plt.figure(\n",
    "    FigureClass=Waffle,\n",
    "    rows=10,\n",
    "    columns = 10,\n",
    "    values=[33, 67],\n",
    "    vertical=True,\n",
    "    colors=[\"lightblue\", \"lightgray\"],\n",
    "    font_size=24,\n",
    "    title={'label': 'Mandatory HI 2000 - 2004', 'loc': 'left', 'fontsize': 15},\n",
    ")\n",
    "\n",
    "fig5d.savefig('mHI_4.png', bbox_inches='tight')\n",
    "plt.show()"
   ]
  },
  {
   "cell_type": "code",
   "execution_count": 19,
   "metadata": {},
   "outputs": [
    {
     "data": {
      "image/png": "[encoded data removed]",
      "text/plain": [
       "<Waffle size 432x288 with 1 Axes>"
      ]
     },
     "metadata": {},
     "output_type": "display_data"
    }
   ],
   "source": [
    "fig5e = plt.figure(\n",
    "    FigureClass=Waffle,\n",
    "    rows=10,\n",
    "    columns = 10,\n",
    "    values=[36, 64],\n",
    "    vertical=True,\n",
    "    colors=[\"lightblue\", \"lightgray\"],\n",
    "    font_size=24,\n",
    "    title={'label': 'Mandatory HI 2010 - 2014', 'loc': 'left', 'fontsize': 15},\n",
    ")\n",
    "\n",
    "fig5e.savefig('mHI_5.png', bbox_inches='tight')\n",
    "plt.show()"
   ]
  },
  {
   "cell_type": "code",
   "execution_count": 20,
   "metadata": {},
   "outputs": [
    {
     "data": {
      "image/png": "[encoded data removed]",
      "text/plain": [
       "<Waffle size 432x288 with 1 Axes>"
      ]
     },
     "metadata": {},
     "output_type": "display_data"
    }
   ],
   "source": [
    "fig6a = plt.figure(\n",
    "    FigureClass=Waffle,\n",
    "    rows=10,\n",
    "    columns = 10,\n",
    "    values=[31, 69],\n",
    "    vertical=True,\n",
    "    colors=[\"dodgerblue\", \"lightgray\"],\n",
    "    font_size=24,\n",
    "    title={'label': 'Selfpayment 1995 - 1999', 'loc': 'left', 'fontsize': 15},\n",
    ")\n",
    "fig6a.savefig('sp_1.png', bbox_inches='tight')\n",
    "plt.show()"
   ]
  },
  {
   "cell_type": "code",
   "execution_count": 21,
   "metadata": {},
   "outputs": [
    {
     "data": {
      "image/png": "[encoded data removed]",
      "text/plain": [
       "<Waffle size 432x288 with 1 Axes>"
      ]
     },
     "metadata": {},
     "output_type": "display_data"
    }
   ],
   "source": [
    "fig6b = plt.figure(\n",
    "    FigureClass=Waffle,\n",
    "    rows=10,\n",
    "    columns = 10,\n",
    "    values=[27, 73],\n",
    "    vertical=True,\n",
    "    colors=[\"dodgerblue\", \"lightgray\"],\n",
    "    font_size=24,\n",
    "    title={'label': 'Selfpayment 2005 - 2009', 'loc': 'left', 'fontsize': 15},\n",
    ")\n",
    "fig6b.savefig('sp_2.png', bbox_inches='tight')\n",
    "plt.show()"
   ]
  },
  {
   "cell_type": "code",
   "execution_count": 22,
   "metadata": {},
   "outputs": [
    {
     "data": {
      "image/png": "[encoded data removed]",
      "text/plain": [
       "<Waffle size 432x288 with 1 Axes>"
      ]
     },
     "metadata": {},
     "output_type": "display_data"
    }
   ],
   "source": [
    "fig6c = plt.figure(\n",
    "    FigureClass=Waffle,\n",
    "    rows=10,\n",
    "    columns = 10,\n",
    "    values=[26, 74],\n",
    "    vertical=True,\n",
    "    colors=[\"dodgerblue\", \"lightgray\"],\n",
    "    font_size=24,\n",
    "    title={'label': 'Selfpayment 2015 - 2019', 'loc': 'left', 'fontsize': 15},\n",
    ")\n",
    "fig6c.savefig('sp_3.png', bbox_inches='tight')\n",
    "plt.show()"
   ]
  },
  {
   "cell_type": "code",
   "execution_count": 23,
   "metadata": {},
   "outputs": [
    {
     "data": {
      "image/png": "[encoded data removed]",
      "text/plain": [
       "<Waffle size 432x288 with 1 Axes>"
      ]
     },
     "metadata": {},
     "output_type": "display_data"
    }
   ],
   "source": [
    "fig6d = plt.figure(\n",
    "    FigureClass=Waffle,\n",
    "    rows=10,\n",
    "    columns = 10,\n",
    "    values=[29, 71],\n",
    "    vertical=True,\n",
    "    colors=[\"dodgerblue\", \"lightgray\"],\n",
    "    font_size=24,\n",
    "    title={'label': 'Selfpayment 2000 - 2004', 'loc': 'left', 'fontsize': 15},\n",
    ")\n",
    "fig6d.savefig('sp_4.png', bbox_inches='tight')\n",
    "plt.show()"
   ]
  },
  {
   "cell_type": "code",
   "execution_count": 24,
   "metadata": {},
   "outputs": [
    {
     "data": {
      "image/png": "[encoded data removed]",
      "text/plain": [
       "<Waffle size 432x288 with 1 Axes>"
      ]
     },
     "metadata": {},
     "output_type": "display_data"
    }
   ],
   "source": [
    "fig6e = plt.figure(\n",
    "    FigureClass=Waffle,\n",
    "    rows=10,\n",
    "    columns = 10,\n",
    "    values=[25, 75],\n",
    "    vertical=True,\n",
    "    colors=[\"dodgerblue\", \"lightgray\"],\n",
    "    font_size=24,\n",
    "    title={'label': 'Selfpayment 2010 - 2014', 'loc': 'left', 'fontsize': 15},\n",
    ")\n",
    "fig6e.savefig('sp_5.png', bbox_inches='tight')\n",
    "plt.show()"
   ]
  },
  {
   "cell_type": "code",
   "execution_count": 106,
   "metadata": {},
   "outputs": [
    {
     "data": {
      "text/html": [
       "<div>\n",
       "<style scoped>\n",
       "    .dataframe tbody tr th:only-of-type {\n",
       "        vertical-align: middle;\n",
       "    }\n",
       "\n",
       "    .dataframe tbody tr th {\n",
       "        vertical-align: top;\n",
       "    }\n",
       "\n",
       "    .dataframe thead th {\n",
       "        text-align: right;\n",
       "    }\n",
       "</style>\n",
       "<table border=\"1\" class=\"dataframe\">\n",
       "  <thead>\n",
       "    <tr style=\"text-align: right;\">\n",
       "      <th>year_cat</th>\n",
       "      <th>1995-1999</th>\n",
       "      <th>2000-2004</th>\n",
       "      <th>2005-2009</th>\n",
       "      <th>2010-2015</th>\n",
       "      <th>2015-2019</th>\n",
       "      <th>change</th>\n",
       "    </tr>\n",
       "  </thead>\n",
       "  <tbody>\n",
       "    <tr>\n",
       "      <th>fin_okp%</th>\n",
       "      <td>30.8</td>\n",
       "      <td>32.7</td>\n",
       "      <td>34.9</td>\n",
       "      <td>35.5</td>\n",
       "      <td>37.1</td>\n",
       "      <td>20.4545</td>\n",
       "    </tr>\n",
       "    <tr>\n",
       "      <th>self_pay%</th>\n",
       "      <td>30.8</td>\n",
       "      <td>28.6</td>\n",
       "      <td>26.6</td>\n",
       "      <td>25.3</td>\n",
       "      <td>25.8</td>\n",
       "      <td>-16.2338</td>\n",
       "    </tr>\n",
       "    <tr>\n",
       "      <th>fin_privin%</th>\n",
       "      <td>12.1</td>\n",
       "      <td>10.5</td>\n",
       "      <td>10.7</td>\n",
       "      <td>8.5</td>\n",
       "      <td>8.3</td>\n",
       "      <td>-31.405</td>\n",
       "    </tr>\n",
       "    <tr>\n",
       "      <th>fin_socin%</th>\n",
       "      <td>12.2</td>\n",
       "      <td>11.9</td>\n",
       "      <td>12.2</td>\n",
       "      <td>11</td>\n",
       "      <td>10.2</td>\n",
       "      <td>-16.3934</td>\n",
       "    </tr>\n",
       "    <tr>\n",
       "      <th>fin_state%</th>\n",
       "      <td>14.2</td>\n",
       "      <td>15.7</td>\n",
       "      <td>15.6</td>\n",
       "      <td>18.8</td>\n",
       "      <td>18.7</td>\n",
       "      <td>31.6901</td>\n",
       "    </tr>\n",
       "  </tbody>\n",
       "</table>\n",
       "</div>"
      ],
      "text/plain": [
       "year_cat    1995-1999 2000-2004 2005-2009 2010-2015 2015-2019   change\n",
       "fin_okp%         30.8      32.7      34.9      35.5      37.1  20.4545\n",
       "self_pay%        30.8      28.6      26.6      25.3      25.8 -16.2338\n",
       "fin_privin%      12.1      10.5      10.7       8.5       8.3  -31.405\n",
       "fin_socin%       12.2      11.9      12.2        11      10.2 -16.3934\n",
       "fin_state%       14.2      15.7      15.6      18.8      18.7  31.6901"
      ]
     },
     "execution_count": 106,
     "metadata": {},
     "output_type": "execute_result"
    }
   ],
   "source": [
    "df_m1 = df_median.T\n",
    "df_m1.columns = df_m1.iloc[0]\n",
    "df_m1 = df_m1.drop(df_m1.index[0])\n",
    "df_m1['change'] = (df_m1[\"2015-2019\"] - df_m1[\"1995-1999\"])/df_m1[\"1995-1999\"]*100\n",
    "df_m1"
   ]
  },
  {
   "cell_type": "code",
   "execution_count": 107,
   "metadata": {},
   "outputs": [
    {
     "data": {
      "image/png": "[encoded data removed]",
      "text/plain": [
       "<Figure size 576x360 with 1 Axes>"
      ]
     },
     "metadata": {},
     "output_type": "display_data"
    }
   ],
   "source": [
    "m1_series = pd.Series(df_m1['change'])\n",
    "\n",
    "y_labels = ['mandatory HI',\n",
    "                     'selfpayment',\n",
    "                     'private HI',\n",
    "                     'social insurance',\n",
    "                     'state'] \n",
    "\n",
    "# Plot the figure.\n",
    "fig7 = plt.figure(figsize=(8, 5))\n",
    "ax = m1_series.plot(kind='barh', color=plt.cm.Paired(np.arange(len(df_m1))), fontsize=15)\n",
    "#ax.set_title('Change between 1995 - 2019', fontsize=15)\n",
    "ax.set_xlabel('Change in %', fontsize=15)\n",
    "ax.set_yticklabels(y_labels)\n",
    "ax.set_xlim(-40, +40) # expand xlim to make labels easier to read\n",
    "\n",
    "rects = ax.patches\n",
    "\n",
    "# For each bar: Place a label\n",
    "for rect in rects:\n",
    "    # Get X and Y placement of label from rect.\n",
    "    x_value = rect.get_width()\n",
    "    y_value = rect.get_y() + rect.get_height() / 2\n",
    "\n",
    "    # Number of points between bar and label. Change to your liking.\n",
    "    space = 5\n",
    "    # Vertical alignment for positive values\n",
    "    ha = 'left'\n",
    "\n",
    "    # If value of bar is negative: Place label left of bar\n",
    "    if x_value < 0:\n",
    "        # Invert space to place label to the left\n",
    "        space *= -1\n",
    "        # Horizontally align label at right\n",
    "        ha = 'right'\n",
    "\n",
    "    # Use X value as label and format number with one decimal place\n",
    "    label = \"{:.1f}\".format(x_value)\n",
    "\n",
    "    # Create annotation\n",
    "    plt.annotate(\n",
    "        label,                      # Use `label` as label\n",
    "        (x_value, y_value),         # Place label at end of the bar\n",
    "        xytext=(space, 0),          # Horizontally shift label by `space`\n",
    "        textcoords=\"offset points\", # Interpret `xytext` as offset in points\n",
    "        va='center',                # Vertically center label\n",
    "        ha=ha,\n",
    "        size=12)                      # Horizontally align label differently for\n",
    "                                   # positive and negative values.\n",
    "\n",
    "fig7.savefig('fin_change.png', bbox_inches='tight')       \n",
    "plt.show()"
   ]
  },
  {
   "cell_type": "code",
   "execution_count": 104,
   "metadata": {},
   "outputs": [
    {
     "data": {
      "text/html": [
       "<div>\n",
       "<style scoped>\n",
       "    .dataframe tbody tr th:only-of-type {\n",
       "        vertical-align: middle;\n",
       "    }\n",
       "\n",
       "    .dataframe tbody tr th {\n",
       "        vertical-align: top;\n",
       "    }\n",
       "\n",
       "    .dataframe thead th {\n",
       "        text-align: right;\n",
       "    }\n",
       "</style>\n",
       "<table border=\"1\" class=\"dataframe\">\n",
       "  <thead>\n",
       "    <tr style=\"text-align: right;\">\n",
       "      <th></th>\n",
       "      <th>0</th>\n",
       "      <th>24</th>\n",
       "      <th>change</th>\n",
       "    </tr>\n",
       "  </thead>\n",
       "  <tbody>\n",
       "    <tr>\n",
       "      <th>fin_okp%</th>\n",
       "      <td>28.4</td>\n",
       "      <td>37.9</td>\n",
       "      <td>33.450704</td>\n",
       "    </tr>\n",
       "    <tr>\n",
       "      <th>self_pay%</th>\n",
       "      <td>31.8</td>\n",
       "      <td>24.5</td>\n",
       "      <td>-22.955975</td>\n",
       "    </tr>\n",
       "    <tr>\n",
       "      <th>fin_privin%</th>\n",
       "      <td>12.9</td>\n",
       "      <td>8.7</td>\n",
       "      <td>-32.558140</td>\n",
       "    </tr>\n",
       "    <tr>\n",
       "      <th>fin_socin%</th>\n",
       "      <td>12.3</td>\n",
       "      <td>10.2</td>\n",
       "      <td>-17.073171</td>\n",
       "    </tr>\n",
       "    <tr>\n",
       "      <th>fin_state%</th>\n",
       "      <td>14.6</td>\n",
       "      <td>18.7</td>\n",
       "      <td>28.082192</td>\n",
       "    </tr>\n",
       "  </tbody>\n",
       "</table>\n",
       "</div>"
      ],
      "text/plain": [
       "                0    24     change\n",
       "fin_okp%     28.4  37.9  33.450704\n",
       "self_pay%    31.8  24.5 -22.955975\n",
       "fin_privin%  12.9   8.7 -32.558140\n",
       "fin_socin%   12.3  10.2 -17.073171\n",
       "fin_state%   14.6  18.7  28.082192"
      ]
     },
     "execution_count": 104,
     "metadata": {},
     "output_type": "execute_result"
    }
   ],
   "source": [
    "df_m2 = df_fin.iloc[['0', '24']]\n",
    "df_m2 = df_m2[['fin_okp%', 'self_pay%', 'fin_privin%', 'fin_socin%', 'fin_state%']]\n",
    "df_m2 = df_m2.T\n",
    "\n",
    "df_m2.head(6)\n",
    "df_m2['change'] = (df_m2[24] - df_m2[0])/df_m2[0]*100\n",
    "df_m2.head(6)\n"
   ]
  },
  {
   "cell_type": "code",
   "execution_count": 105,
   "metadata": {},
   "outputs": [
    {
     "data": {
      "image/png": "[encoded data removed]",
      "text/plain": [
       "<Figure size 576x360 with 1 Axes>"
      ]
     },
     "metadata": {},
     "output_type": "display_data"
    }
   ],
   "source": [
    "m2_series = pd.Series(df_m2['change'])\n",
    "\n",
    "y_labels = ['mandatory HI',\n",
    "                     'selfpayment',\n",
    "                     'private HI',\n",
    "                     'social insurance',\n",
    "                     'state'] \n",
    "\n",
    "# Plot the figure.\n",
    "fig8 = plt.figure(figsize=(8, 5))\n",
    "ax = m2_series.plot(kind='barh', color=plt.cm.Paired(np.arange(len(df_m1))), fontsize=15)\n",
    "#ax.set_title('Change between 1995 - 2019', fontsize=15)\n",
    "ax.set_xlabel('Change in %', fontsize=15)\n",
    "ax.set_yticklabels(y_labels)\n",
    "ax.set_xlim(-40, +40) # expand xlim to make labels easier to read\n",
    "\n",
    "rects = ax.patches\n",
    "\n",
    "# For each bar: Place a label\n",
    "for rect in rects:\n",
    "    # Get X and Y placement of label from rect.\n",
    "    x_value = rect.get_width()\n",
    "    y_value = rect.get_y() + rect.get_height() / 2\n",
    "\n",
    "    # Number of points between bar and label. Change to your liking.\n",
    "    space = 5\n",
    "    # Vertical alignment for positive values\n",
    "    ha = 'left'\n",
    "\n",
    "    # If value of bar is negative: Place label left of bar\n",
    "    if x_value < 0:\n",
    "        # Invert space to place label to the left\n",
    "        space *= -1\n",
    "        # Horizontally align label at right\n",
    "        ha = 'right'\n",
    "\n",
    "    # Use X value as label and format number with one decimal place\n",
    "    label = \"{:.1f}\".format(x_value)\n",
    "\n",
    "    # Create annotation\n",
    "    plt.annotate(\n",
    "        label,                      # Use `label` as label\n",
    "        (x_value, y_value),         # Place label at end of the bar\n",
    "        xytext=(space, 0),          # Horizontally shift label by `space`\n",
    "        textcoords=\"offset points\", # Interpret `xytext` as offset in points\n",
    "        va='center',                # Vertically center label\n",
    "        ha=ha,\n",
    "        size=12)                      # Horizontally align label differently for\n",
    "                                   # positive and negative values.\n",
    "\n",
    "fig8.savefig('fin_change1.png', bbox_inches='tight')       \n",
    "plt.show()"
   ]
  }
 ],
 "metadata": {
  "kernelspec": {
   "display_name": "Python 3",
   "language": "python",
   "name": "python3"
  },
  "language_info": {
   "codemirror_mode": {
    "name": "ipython",
    "version": 3
   },
   "file_extension": ".py",
   "mimetype": "text/x-python",
   "name": "python",
   "nbconvert_exporter": "python",
   "pygments_lexer": "ipython3",
   "version": "3.8.5"
  }
 },
 "nbformat": 4,
 "nbformat_minor": 4
}
