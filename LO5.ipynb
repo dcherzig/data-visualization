{
 "cells": [
  {
   "cell_type": "code",
   "execution_count": 1,
   "metadata": {},
   "outputs": [],
   "source": [
    "from matplotlib import pyplot as plt\n",
    "from plotnine import *\n",
    "from pandas.api.types import CategoricalDtype\n",
    "import pandas as pd\n",
    "import numpy as np\n",
    "import seaborn as sns"
   ]
  },
  {
   "cell_type": "code",
   "execution_count": 2,
   "metadata": {},
   "outputs": [],
   "source": [
    "labels = ['Group A', 'Group B']\n",
    "answer_1 = [8, 11]\n",
    "answer_2 = [4, 1]\n",
    "error_rate1 = [33, 0]\n",
    "answer_3 = [3, 17]\n",
    "answer_4 = [5, 15]\n",
    "error_margin = [10, 30]\n",
    "width=0.4\n",
    "x=np.arange(2)\n"
   ]
  },
  {
   "cell_type": "code",
   "execution_count": 3,
   "metadata": {},
   "outputs": [
    {
     "data": {
      "image/png": "[encoded data removed]",
      "text/plain": [
       "<Figure size 432x288 with 1 Axes>"
      ]
     },
     "metadata": {
      "needs_background": "light"
     },
     "output_type": "display_data"
    }
   ],
   "source": [
    "fig, ax = plt.subplots()\n",
    "left = ax.bar(x-0.2, answer_1, width)\n",
    "right = ax.bar(x+0.2, answer_2, width)\n",
    "plt.xticks(x, labels)\n",
    "plt.ylabel(\"time [seconds]\")\n",
    "plt.legend([\"Answer 1\", \"Answer 2\"])\n",
    "\n",
    "\n",
    "fig.savefig('6_1.png')\n",
    "\n",
    "plt.show()"
   ]
  },
  {
   "cell_type": "code",
   "execution_count": 4,
   "metadata": {},
   "outputs": [
    {
     "data": {
      "image/png": "[encoded data removed]",
      "text/plain": [
       "<Figure size 432x288 with 1 Axes>"
      ]
     },
     "metadata": {
      "needs_background": "light"
     },
     "output_type": "display_data"
    }
   ],
   "source": [
    "fig, ax = plt.subplots()\n",
    "left = ax.bar(x-0.2, answer_3, width)\n",
    "right = ax.bar(x+0.2, answer_4, width)\n",
    "plt.xticks(x, labels)\n",
    "plt.ylabel(\"time [seconds]\")\n",
    "plt.legend([\"Answer 3\", \"Answer 4\"])\n",
    "\n",
    "\n",
    "fig.savefig('6_2.png')\n",
    "\n",
    "plt.show()"
   ]
  }
 ],
 "metadata": {
  "kernelspec": {
   "display_name": "Python 3",
   "language": "python",
   "name": "python3"
  },
  "language_info": {
   "codemirror_mode": {
    "name": "ipython",
    "version": 3
   },
   "file_extension": ".py",
   "mimetype": "text/x-python",
   "name": "python",
   "nbconvert_exporter": "python",
   "pygments_lexer": "ipython3",
   "version": "3.8.5"
  }
 },
 "nbformat": 4,
 "nbformat_minor": 4
}
